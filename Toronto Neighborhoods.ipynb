{
    "cells": [
        {
            "cell_type": "markdown",
            "metadata": {
                "collapsed": true
            },
            "source": "# This notebook segments Toronto into various neighborhoods"
        },
        {
            "cell_type": "markdown",
            "metadata": {},
            "source": "# PART 1"
        },
        {
            "cell_type": "code",
            "execution_count": 35,
            "metadata": {},
            "outputs": [
                {
                    "name": "stdout",
                    "output_type": "stream",
                    "text": "(103, 3)\n(103,)\nThe shape of the neighborhoods dataframe is: (103, 3)\n"
                }
            ],
            "source": "import pandas as pd \nimport numpy as np\n\nURL = 'https://en.wikipedia.org/wiki/List_of_postal_codes_of_Canada:_M'\nneighborhoods = pd.read_html(URL, header=0) #get info from wikipedia page\nneighborhoods = neighborhoods[0] #remove unnecessary info\n\n#remove rows where borough is not assigned\nneighborhoods = neighborhoods.loc[(neighborhoods['Borough'] != 'Not assigned')] \n\n#confirm the postal codes are unique\nprint(neighborhoods.shape)\nneighborhoods_count = neighborhoods.groupby('Postal Code')['Postal Code'].nunique()\nprint(neighborhoods_count.shape)\n\n#ensure that neighborhoods are assigned as borough if not present\nfor id, row in neighborhoods.iterrows():\n    if row.loc['Neighbourhood'] == 'Not assigned':\n        neighborhoods.at[id, 'Neighbourhood'] = neighborhoods.at[id, 'Borough']\n        print(str(row.loc['Borough']) + ' neighbourhood updated') \n\n#print the shape of the dataframe as requested in part 1\nprint('The shape of the neighborhoods dataframe is: ' + str(neighborhoods.shape))"
        },
        {
            "cell_type": "code",
            "execution_count": 9,
            "metadata": {},
            "outputs": [],
            "source": ""
        },
        {
            "cell_type": "code",
            "execution_count": null,
            "metadata": {},
            "outputs": [],
            "source": "\n"
        },
        {
            "cell_type": "code",
            "execution_count": null,
            "metadata": {},
            "outputs": [],
            "source": ""
        }
    ],
    "metadata": {
        "kernelspec": {
            "display_name": "Python 3.7",
            "language": "python",
            "name": "python3"
        },
        "language_info": {
            "codemirror_mode": {
                "name": "ipython",
                "version": 3
            },
            "file_extension": ".py",
            "mimetype": "text/x-python",
            "name": "python",
            "nbconvert_exporter": "python",
            "pygments_lexer": "ipython3",
            "version": "3.7.9"
        }
    },
    "nbformat": 4,
    "nbformat_minor": 1
}