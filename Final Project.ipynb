{
    "cells": [
        {
            "cell_type": "markdown",
            "metadata": {
                "collapsed": true
            },
            "source": "# Where to Open a Coffee Shop in Atlanta, GA"
        },
        {
            "cell_type": "markdown",
            "metadata": {},
            "source": "## Introduction"
        },
        {
            "cell_type": "markdown",
            "metadata": {},
            "source": "_Opening a coffee shop, or any restaurant for that matter, can be extremely difficult - especially during the current pandemic. One of the most difficult and critical choices of any business owner is locating their shop. In the restaurant business a good location is often a significant factor in the ability of the restaurant to make it and suceed. The goal of this project and analysis is to determine what locations within the city of Atlanta potentially offer a business owner the ideal location for a coffee shop targeting working adults_\n\nThis \"ideal\" location will be defined by a few critical factors: \n* Proximity to other coffee shops\n* Proximity to other restaurants \n* Proximity to offices to target working adults"
        },
        {
            "cell_type": "markdown",
            "metadata": {},
            "source": "## Data Sources"
        },
        {
            "cell_type": "markdown",
            "metadata": {},
            "source": "In order to complete this analysis some critical data needs to be located:\n* Location of restaurants in Atlanta\n* Location of coffee shops in Atlanta\n* Location of offices in Atlanta\n\nTo get this data the follow sources will need to be used:\n\n* Foursquare API to help provide the locations of various restaurants including their type (i.e. coffee shop)\n* Foursquare API to help provide the locations of various offices \n* List of neighborhoods in Atlanta which has been made available by the Atlanta Regianal Commision https://opendata.atlantaregional.com/ \n\nThis data will allow us to compare the various parts of Atlanta to determine which neighborhood will be an ideal cadidate for a coffee shop targeting working adults"
        },
        {
            "cell_type": "code",
            "execution_count": null,
            "metadata": {},
            "outputs": [],
            "source": ""
        }
    ],
    "metadata": {
        "kernelspec": {
            "display_name": "Python 3.7",
            "language": "python",
            "name": "python3"
        },
        "language_info": {
            "codemirror_mode": {
                "name": "ipython",
                "version": 3
            },
            "file_extension": ".py",
            "mimetype": "text/x-python",
            "name": "python",
            "nbconvert_exporter": "python",
            "pygments_lexer": "ipython3",
            "version": "3.7.9"
        }
    },
    "nbformat": 4,
    "nbformat_minor": 1
}